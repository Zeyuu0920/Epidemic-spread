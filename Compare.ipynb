{
 "cells": [
  {
   "cell_type": "code",
   "execution_count": 27,
   "id": "retained-celebration",
   "metadata": {},
   "outputs": [],
   "source": [
    "import numpy as np\n",
    "import pandas as pd\n",
    "import networkx as nx\n",
    "import os\n",
    "from collections import Counter\n",
    "import random\n",
    "\n",
    "from sklearn.ensemble import RandomForestRegressor\n",
    "from sklearn.model_selection import train_test_split\n",
    "from sklearn.metrics import mean_squared_error, mean_absolute_error, median_absolute_error\n",
    "\n",
    "from sklearn.linear_model import LinearRegression\n",
    "\n",
    "from sklearn.preprocessing import MinMaxScaler\n",
    "from sklearn.preprocessing import StandardScaler\n"
   ]
  },
  {
   "cell_type": "code",
   "execution_count": 24,
   "id": "literary-majority",
   "metadata": {},
   "outputs": [],
   "source": [
    "raw_file = \"./Hagelloch_df.csv\""
   ]
  },
  {
   "cell_type": "code",
   "execution_count": 15,
   "id": "serious-madness",
   "metadata": {},
   "outputs": [],
   "source": [
    "def read_file(raw_file):\n",
    "    df = pd.read_csv(raw_file)\n",
    "    return df"
   ]
  },
  {
   "cell_type": "markdown",
   "id": "relevant-yugoslavia",
   "metadata": {},
   "source": [
    "Functions for discrete variables with minmax normalization of results"
   ]
  },
  {
   "cell_type": "code",
   "execution_count": 16,
   "id": "manufactured-oxide",
   "metadata": {},
   "outputs": [],
   "source": [
    "def discrete(df, column_name):\n",
    "\n",
    "    if column_name == \"C\":\n",
    "        serial_lst = (df[column_name] == \"no complicatons\").astype(int).tolist()\n",
    "        return serial_lst\n",
    "\n",
    "\n",
    "    if df[column_name].isna().any():\n",
    "        serial_withoutNA = df[column_name].fillna(0)\n",
    "        serial_num = pd.factorize(serial_withoutNA)[0].reshape(-1, 1)\n",
    "    else:\n",
    "        serial_num = pd.factorize(df[column_name])[0].reshape(-1, 1)\n",
    "    scaler = MinMaxScaler()\n",
    "    res = scaler.fit_transform(serial_num)\n",
    "    serial_lst = res.flatten().tolist()\n",
    "    return serial_lst"
   ]
  },
  {
   "cell_type": "markdown",
   "id": "packed-unknown",
   "metadata": {},
   "source": [
    "Functions for working with continuous variables and standardizing the results by standard deviation."
   ]
  },
  {
   "cell_type": "code",
   "execution_count": 17,
   "id": "sublime-burke",
   "metadata": {},
   "outputs": [],
   "source": [
    "def countinues(df, column_name, return_scaler=False):\n",
    "    if df[column_name].isna().any():\n",
    "        if column_name == \"IFTO\":\n",
    "            data_list = df.groupby(\"NAME\")[column_name].transform(lambda x: x.fillna(x.mode()[0] if not x.mode().empty else x)).tolist()\n",
    "    else:\n",
    "        data_list = df[column_name].tolist()\n",
    "    data_array = np.array(data_list).reshape(-1, 1)\n",
    "    scaler = StandardScaler()\n",
    "    scaled_data = scaler.fit_transform(data_array)\n",
    "    scaled_lst = scaled_data.flatten().tolist()\n",
    "    if return_scaler:\n",
    "        return scaled_lst, scaler\n",
    "    return scaled_lst"
   ]
  },
  {
   "cell_type": "markdown",
   "id": "diverse-charge",
   "metadata": {},
   "source": [
    "Collate all the features and return an ndarray"
   ]
  },
  {
   "cell_type": "code",
   "execution_count": 18,
   "id": "needed-revelation",
   "metadata": {},
   "outputs": [],
   "source": [
    "def abstract_data(df):\n",
    "    columns = [\"FN\", \"HN\", \"AGE\", \"SEX\", \"CL\", \"IFTO\", \"SI\", \"C\" ,\"CA\", \"NI\", \"GE\"] ## missing TD TM\n",
    "\n",
    "    ## Processing of each column\n",
    "    # FN\n",
    "    # FN_lst = discrete(df, \"FN\")\n",
    "    # print(FN_raw)\n",
    "    # HN\n",
    "    HN_lst = discrete(df, \"HN\")\n",
    "    # AGE\n",
    "    age_lst = countinues(df, \"AGE\")\n",
    "    # SEX\n",
    "    SEX_lst = discrete(df, \"SEX\")\n",
    "    # Class\n",
    "    CL_lst = discrete(df, \"CL\")\n",
    "    # IFTO\n",
    "    # IFTO_lst = countinues(df, \"IFTO\")\n",
    "    # SI\n",
    "    SI_lst = countinues(df, \"SI\")\n",
    "    # C\n",
    "    C_lst = discrete(df, \"C\")\n",
    "    # CA\n",
    "    CA_lst = countinues(df, \"CA\")\n",
    "    # NI\n",
    "    NI_lst = countinues(df, \"NI\")\n",
    "    # GE\n",
    "    GE_lst = countinues(df, \"GE\")\n",
    "\n",
    "    # TD\n",
    "    # TM\n",
    "    clean_data = np.array([HN_lst, age_lst, SEX_lst, CL_lst, SI_lst, C_lst, CA_lst, NI_lst, GE_lst]).T\n",
    "    return clean_data"
   ]
  },
  {
   "cell_type": "code",
   "execution_count": 19,
   "id": "sticky-recruitment",
   "metadata": {},
   "outputs": [],
   "source": [
    "def abstract_label(df):\n",
    "    label_column = [\"tPRO\", \"tERU\"]\n",
    "\n",
    "    tPRO_lst, tPRO_scaler = countinues(df, \"tPRO\", return_scaler=True)\n",
    "    tERU_lst, tERU_scaler = countinues(df, \"tERU\", return_scaler=True)\n",
    "\n",
    "    label = np.array([tPRO_lst, tERU_lst]).T\n",
    "    return label, [tPRO_scaler, tERU_scaler]"
   ]
  },
  {
   "cell_type": "code",
   "execution_count": 25,
   "id": "hidden-amber",
   "metadata": {},
   "outputs": [],
   "source": [
    "## Data\n",
    "df = read_file(raw_file)\n",
    "data = abstract_data(df)\n",
    "\n",
    "## Label\n",
    "df = read_file(raw_file)\n",
    "label, scaler_lst = abstract_label(df)\n",
    "\n",
    "X_train, X_test, y_train, y_test = train_test_split(data, label, test_size=0.2,random_state=42)"
   ]
  },
  {
   "cell_type": "markdown",
   "id": "digital-compatibility",
   "metadata": {},
   "source": [
    "Compute mse, rmse, mae medae for random forests"
   ]
  },
  {
   "cell_type": "code",
   "execution_count": 45,
   "id": "enhanced-applicant",
   "metadata": {},
   "outputs": [
    {
     "name": "stdout",
     "output_type": "stream",
     "text": [
      "Mean Squared Error: 0.5557117660120794\n",
      "Root Mean Squared Error: 0.7454607742947172\n",
      "Mean Absolute Error: 0.5616729417946513\n",
      "Median Absolute Error: 0.45570338815729255\n"
     ]
    }
   ],
   "source": [
    "model = RandomForestRegressor(n_estimators=10)\n",
    "model.fit(X_train, y_train)\n",
    "\n",
    "predictions = model.predict(X_test)\n",
    "mse = mean_squared_error(y_test, predictions)\n",
    "rmse = np.sqrt(mse)\n",
    "mae = mean_absolute_error(y_test, predictions)\n",
    "medae = median_absolute_error(y_test, predictions)\n",
    "\n",
    "\n",
    "print(f\"Mean Squared Error: {mse}\")\n",
    "print(f\"Root Mean Squared Error: {rmse}\")\n",
    "print(f\"Mean Absolute Error: {mae}\")\n",
    "print(f\"Median Absolute Error: {medae}\")"
   ]
  },
  {
   "cell_type": "markdown",
   "id": "little-bearing",
   "metadata": {},
   "source": [
    "Compute mse, rmse, mae medae of LinearRegression"
   ]
  },
  {
   "cell_type": "code",
   "execution_count": 32,
   "id": "korean-mechanism",
   "metadata": {},
   "outputs": [
    {
     "name": "stdout",
     "output_type": "stream",
     "text": [
      "Mean Squared Error: 0.7191856187421316\n",
      "Root Mean Squared Error: 0.8480481228928767\n",
      "Mean Absolute Error: 0.6806627806671744\n",
      "Median Absolute Error: 0.5675477614442709\n"
     ]
    }
   ],
   "source": [
    "from sklearn.linear_model import LinearRegression\n",
    "model = LinearRegression()\n",
    "\n",
    "model.fit(X_train, y_train)\n",
    "\n",
    "predictions_lr = model.predict(X_test)\n",
    "mse_lr = mean_squared_error(y_test, predictions_lr)\n",
    "rmse_lr = np.sqrt(mse_lr)\n",
    "mae_lr = mean_absolute_error(y_test, predictions_lr)\n",
    "medae_lr = median_absolute_error(y_test, predictions_lr)\n",
    "\n",
    "print(f\"Mean Squared Error: {mse_lr}\")\n",
    "print(f\"Root Mean Squared Error: {rmse_lr}\")\n",
    "print(f\"Mean Absolute Error: {mae_lr}\")\n",
    "print(f\"Median Absolute Error: {medae_lr}\")"
   ]
  },
  {
   "cell_type": "markdown",
   "id": "acoustic-water",
   "metadata": {},
   "source": [
    "Compute mse, rmse, mae medae of SVMs"
   ]
  },
  {
   "cell_type": "code",
   "execution_count": 35,
   "id": "elect-cisco",
   "metadata": {},
   "outputs": [
    {
     "name": "stdout",
     "output_type": "stream",
     "text": [
      "Mean Squared Error: 0.8103374215685414\n",
      "Root Mean Squared Error: 0.9001874369088592\n",
      "Mean Absolute Error: 0.6924446131986255\n",
      "Median Absolute Error: 0.49517184689761823\n"
     ]
    }
   ],
   "source": [
    "from sklearn.svm import SVR\n",
    "from sklearn.multioutput import MultiOutputRegressor\n",
    "\n",
    "svr = SVR(kernel='rbf')\n",
    "model = MultiOutputRegressor(svr)\n",
    "\n",
    "model.fit(X_train, y_train)\n",
    "\n",
    "predictions_svr = model.predict(X_test)\n",
    "mse_svr = mean_squared_error(y_test, predictions_svr)\n",
    "rmse_svr = np.sqrt(mse_svr)\n",
    "mae_svr = mean_absolute_error(y_test, predictions_svr)\n",
    "medae_svr = median_absolute_error(y_test, predictions_svr)\n",
    "\n",
    "print(f\"Mean Squared Error: {mse_svr}\")\n",
    "print(f\"Root Mean Squared Error: {rmse_svr}\")\n",
    "print(f\"Mean Absolute Error: {mae_svr}\")\n",
    "print(f\"Median Absolute Error: {medae_svr}\")"
   ]
  },
  {
   "cell_type": "markdown",
   "id": "communist-float",
   "metadata": {},
   "source": [
    "Calculating mse, rmse, mae medae for MLPs"
   ]
  },
  {
   "cell_type": "code",
   "execution_count": 38,
   "id": "abroad-austin",
   "metadata": {},
   "outputs": [
    {
     "name": "stdout",
     "output_type": "stream",
     "text": [
      "Mean Squared Error: 0.8771372202423775\n",
      "Root Mean Squared Error: 0.9365560422325925\n",
      "Mean Absolute Error: 0.7583445391932999\n",
      "Median Absolute Error: 0.7394914371385382\n"
     ]
    },
    {
     "name": "stderr",
     "output_type": "stream",
     "text": [
      "D:\\(ノ￣▽￣)\\venv\\lib\\site-packages\\sklearn\\neural_network\\_multilayer_perceptron.py:691: ConvergenceWarning: Stochastic Optimizer: Maximum iterations (1000) reached and the optimization hasn't converged yet.\n",
      "  warnings.warn(\n"
     ]
    }
   ],
   "source": [
    "from sklearn.neural_network import MLPRegressor\n",
    "model = MLPRegressor(hidden_layer_sizes=(50,), max_iter=1000)\n",
    "\n",
    "model.fit(X_train, y_train)\n",
    "\n",
    "predictions_mlp = model.predict(X_test)\n",
    "mse_mlp = mean_squared_error(y_test, predictions_mlp)\n",
    "rmse_mlp = np.sqrt(mse_mlp)\n",
    "mae_mlp = mean_absolute_error(y_test, predictions_mlp)\n",
    "medae_mlp = median_absolute_error(y_test, predictions_mlp)\n",
    "\n",
    "print(f\"Mean Squared Error: {mse_mlp}\")\n",
    "print(f\"Root Mean Squared Error: {rmse_mlp}\")\n",
    "print(f\"Mean Absolute Error: {mae_mlp}\")\n",
    "print(f\"Median Absolute Error: {medae_mlp}\")"
   ]
  },
  {
   "cell_type": "markdown",
   "id": "satisfactory-abortion",
   "metadata": {},
   "source": [
    "Compute mse, rmse, mae medae for GradientBoosting"
   ]
  },
  {
   "cell_type": "code",
   "execution_count": 41,
   "id": "white-response",
   "metadata": {},
   "outputs": [
    {
     "name": "stdout",
     "output_type": "stream",
     "text": [
      "Mean Squared Error: 0.5779350709230859\n",
      "Root Mean Squared Error: 0.7602204094360305\n",
      "Mean Absolute Error: 0.5937202484746504\n",
      "Median Absolute Error: 0.45404024528870063\n"
     ]
    }
   ],
   "source": [
    "from sklearn.ensemble import GradientBoostingRegressor\n",
    "from sklearn.multioutput import MultiOutputRegressor\n",
    "GBR = GradientBoostingRegressor(n_estimators=10, learning_rate=0.1)\n",
    "\n",
    "model = MultiOutputRegressor(GBR)\n",
    "\n",
    "model.fit(X_train, y_train)\n",
    "\n",
    "predictions_gbr = model.predict(X_test)\n",
    "mse_gbr = mean_squared_error(y_test, predictions_gbr)\n",
    "rmse_gbr = np.sqrt(mse_gbr)\n",
    "mae_gbr = mean_absolute_error(y_test, predictions_gbr)\n",
    "medae_gbr = median_absolute_error(y_test, predictions_gbr)\n",
    "\n",
    "print(f\"Mean Squared Error: {mse_gbr}\")\n",
    "print(f\"Root Mean Squared Error: {rmse_gbr}\")\n",
    "print(f\"Mean Absolute Error: {mae_gbr}\")\n",
    "print(f\"Median Absolute Error: {medae_gbr}\")"
   ]
  },
  {
   "cell_type": "code",
   "execution_count": null,
   "id": "cultural-qatar",
   "metadata": {},
   "outputs": [],
   "source": []
  }
 ],
 "metadata": {
  "kernelspec": {
   "display_name": "Python 3",
   "language": "python",
   "name": "python3"
  },
  "language_info": {
   "codemirror_mode": {
    "name": "ipython",
    "version": 3
   },
   "file_extension": ".py",
   "mimetype": "text/x-python",
   "name": "python",
   "nbconvert_exporter": "python",
   "pygments_lexer": "ipython3",
   "version": "3.8.1"
  }
 },
 "nbformat": 4,
 "nbformat_minor": 5
}
